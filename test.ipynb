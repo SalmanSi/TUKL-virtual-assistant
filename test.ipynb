{
 "cells": [
  {
   "cell_type": "code",
   "execution_count": 1,
   "metadata": {},
   "outputs": [],
   "source": [
    "import requests\n",
    "import json\n",
    "\n",
    "# Replace these with your actual API key and voice ID\n",
    "elevenLabsApiKey = 'sk_2d8be67d2010fe85fea6961d68cf2f1bb3ced498e062da25'\n",
    "voiceID = '29vD33N1CtxCmqQRPOHJ'\n"
   ]
  },
  {
   "cell_type": "code",
   "execution_count": 2,
   "metadata": {},
   "outputs": [
    {
     "name": "stdout",
     "output_type": "stream",
     "text": [
      "Error: 404, {\"detail\":\"Not Found\"}\n"
     ]
    }
   ],
   "source": [
    "\n",
    "def text_to_speech(api_key, voice_id, text, file_name):\n",
    "    url = 'https://api.elevenlabs.io/v1/text-to-speech'\n",
    "    headers = {\n",
    "        'Authorization': f'Bearer {api_key}',\n",
    "        'Content-Type': 'application/json'\n",
    "    }\n",
    "    payload = {\n",
    "        'voice_id': voice_id,\n",
    "        'text': text\n",
    "    }\n",
    "    response = requests.post(url, headers=headers, json=payload)\n",
    "\n",
    "    if response.status_code == 200:\n",
    "        with open(file_name, 'wb') as audio_file:\n",
    "            audio_file.write(response.content)\n",
    "        print(f\"Audio file saved as {file_name}\")\n",
    "    else:\n",
    "        print(f\"Error: {response.status_code}, {response.text}\")\n",
    "\n",
    "# Example usage\n",
    "if __name__ == \"__main__\":\n",
    "    text = \"Hello, this is a test of the ElevenLabs text-to-speech API.\"\n",
    "    file_name = 'test_audio.mp3'\n",
    "    text_to_speech(elevenLabsApiKey, voiceID, text, file_name)\n"
   ]
  },
  {
   "cell_type": "code",
   "execution_count": 5,
   "metadata": {},
   "outputs": [],
   "source": [
    "import requests\n",
    "\n",
    "CHUNK_SIZE = 1024\n",
    "url = \"https://api.elevenlabs.io/v1/text-to-speech/<voice-id>\"\n",
    "\n",
    "headers = {\n",
    "  \"Accept\": \"audio/mpeg\",\n",
    "  \"Content-Type\": \"application/json\",\n",
    "  \"xi-api-key\": \"sk_2d8be67d2010fe85fea6961d68cf2f1bb3ced498e062da25\"\n",
    "}\n",
    "\n",
    "data = {\n",
    "  \"text\": \"\"\"Born and raised in the charming south, \n",
    "  I can add a touch of sweet southern hospitality \n",
    "  to your audiobooks and podcasts\"\"\",\n",
    "  \"model_id\": \"eleven_monolingual_v1\",\n",
    "  \"voice_settings\": {\n",
    "    \"stability\": 0.5,\n",
    "    \"similarity_boost\": 0.5\n",
    "  }\n",
    "}\n",
    "\n",
    "response = requests.post(url, json=data, headers=headers)\n",
    "with open('output.mp3', 'wb') as f:\n",
    "    for chunk in response.iter_content(chunk_size=CHUNK_SIZE):\n",
    "        if chunk:\n",
    "            f.write(chunk)\n"
   ]
  },
  {
   "cell_type": "code",
   "execution_count": null,
   "metadata": {},
   "outputs": [],
   "source": []
  }
 ],
 "metadata": {
  "kernelspec": {
   "display_name": "Python 3",
   "language": "python",
   "name": "python3"
  },
  "language_info": {
   "codemirror_mode": {
    "name": "ipython",
    "version": 3
   },
   "file_extension": ".py",
   "mimetype": "text/x-python",
   "name": "python",
   "nbconvert_exporter": "python",
   "pygments_lexer": "ipython3",
   "version": "3.12.0"
  }
 },
 "nbformat": 4,
 "nbformat_minor": 2
}
